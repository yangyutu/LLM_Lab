{
 "cells": [
  {
   "cell_type": "markdown",
   "metadata": {},
   "source": [
    "# *Lab: LLM Pretraining\n",
    "\n",
    "Here we directly leverage the decoder architecture we made from previous sections. \n",
    "  "
   ]
  },
  {
   "cell_type": "code",
   "execution_count": 19,
   "metadata": {},
   "outputs": [
    {
     "name": "stdout",
     "output_type": "stream",
     "text": [
      "The autoreload extension is already loaded. To reload it, use:\n",
      "  %reload_ext autoreload\n"
     ]
    }
   ],
   "source": [
    "import torch\n",
    "import torch.nn.functional as F\n",
    "import torch.utils.checkpoint\n",
    "from torch.utils.data import DataLoader\n",
    "from torch import nn\n",
    "import numpy as np\n",
    "from omegaconf import OmegaConf\n",
    "from llm_lab.model.rotary_decoder import RotaryDecoderModel\n",
    "from llm_lab.utils.collate_utils import default_data_collator\n",
    "from llm_lab.utils.common_utils import move_to_device\n",
    "from transformers import AutoTokenizer\n",
    "from datasets import load_dataset\n",
    "from itertools import chain\n",
    "from functools import partial\n",
    "\n",
    "%load_ext autoreload\n",
    "%autoreload 2 "
   ]
  },
  {
   "cell_type": "markdown",
   "metadata": {},
   "source": [
    "## Data"
   ]
  },
  {
   "cell_type": "code",
   "execution_count": 20,
   "metadata": {},
   "outputs": [],
   "source": [
    "dataset_name =  \"wikitext\"\n",
    "data_config = \"wikitext-2-raw-v1\"\n",
    "text_column_name = \"text\"\n",
    "\n",
    "# model parameters\n",
    "model_name_or_path=\"openai-community/gpt2\""
   ]
  },
  {
   "cell_type": "code",
   "execution_count": 21,
   "metadata": {},
   "outputs": [],
   "source": [
    "raw_datasets = load_dataset(dataset_name, data_config)\n",
    "tokenizer = AutoTokenizer.from_pretrained(model_name_or_path, use_fast=True)"
   ]
  },
  {
   "cell_type": "code",
   "execution_count": 22,
   "metadata": {},
   "outputs": [],
   "source": [
    "def tokenize(examples):\n",
    "    return tokenizer(examples[text_column_name])"
   ]
  },
  {
   "cell_type": "code",
   "execution_count": 23,
   "metadata": {},
   "outputs": [],
   "source": [
    "def group_and_chunk(tokenized_examples, chunk_size=1024, chunk_key='input_ids'):\n",
    "    keys = list(tokenized_examples.keys())\n",
    "    # use chain to flatten list\n",
    "    concat_examples = {k: list(chain(*tokenized_examples[k])) for k in keys}\n",
    "    total_length = len(concat_examples[chunk_key])\n",
    "    total_length = (total_length // chunk_size) * chunk_size\n",
    "    \n",
    "    result_dict = {\n",
    "        k: [v[i : i + chunk_size] for i in range(0, total_length, chunk_size)]\n",
    "        for k, v in concat_examples.items()\n",
    "    }\n",
    "\n",
    "    return result_dict"
   ]
  },
  {
   "cell_type": "code",
   "execution_count": 24,
   "metadata": {},
   "outputs": [],
   "source": [
    "tokenized_dataset = raw_datasets.map(\n",
    "                    tokenize, \n",
    "                    batched=True)"
   ]
  },
  {
   "cell_type": "code",
   "execution_count": 25,
   "metadata": {},
   "outputs": [],
   "source": [
    "chunk_data = tokenized_dataset.map(\n",
    "                                    partial(group_and_chunk, \n",
    "                                            chunk_size=256),\n",
    "                                        #chunk_size=tokenizer.model_max_length),\n",
    "                                    batched=True,\n",
    "                                    remove_columns=['text'])"
   ]
  },
  {
   "cell_type": "code",
   "execution_count": 26,
   "metadata": {},
   "outputs": [
    {
     "data": {
      "text/plain": [
       "DatasetDict({\n",
       "    test: Dataset({\n",
       "        features: ['text', 'input_ids', 'attention_mask'],\n",
       "        num_rows: 1104\n",
       "    })\n",
       "    train: Dataset({\n",
       "        features: ['text', 'input_ids', 'attention_mask'],\n",
       "        num_rows: 9327\n",
       "    })\n",
       "    validation: Dataset({\n",
       "        features: ['text', 'input_ids', 'attention_mask'],\n",
       "        num_rows: 964\n",
       "    })\n",
       "})"
      ]
     },
     "execution_count": 26,
     "metadata": {},
     "output_type": "execute_result"
    }
   ],
   "source": [
    "chunk_data"
   ]
  },
  {
   "cell_type": "markdown",
   "metadata": {},
   "source": [
    "## Model"
   ]
  },
  {
   "cell_type": "code",
   "execution_count": 27,
   "metadata": {},
   "outputs": [],
   "source": [
    "class DecoderCausalLM(nn.Module):\n",
    "    def __init__(self, config):\n",
    "        super().__init__()\n",
    "        self.decoder = RotaryDecoderModel(config)\n",
    "        self.lm_head = nn.Linear(config.hidden_size, config.vocab_size, bias=False)\n",
    "        \n",
    "    def forward(self, batch):\n",
    "        hidden_states = self.decoder(input_ids=batch['input_ids'])\n",
    "        logits = self.lm_head(hidden_states)\n",
    "        return logits"
   ]
  },
  {
   "cell_type": "markdown",
   "metadata": {},
   "source": [
    "## Training\n",
    "### Loss computation routine"
   ]
  },
  {
   "cell_type": "code",
   "execution_count": 28,
   "metadata": {},
   "outputs": [],
   "source": [
    "def compute_batch_loss(batch, model, device, mixed_precision_assert=False):\n",
    "    assert model.training\n",
    "    move_to_device(batch, device)\n",
    "    model_input = {'input_ids':batch['input_ids'],'attention_mask': batch['attention_mask']}\n",
    "    logits = model(model_input)[:,:-1,:].contiguous()\n",
    "    labels = batch['input_ids'][:,1:].contiguous()\n",
    "    flat_labels = labels.view(-1)\n",
    "    flat_logits = logits.view(-1, logits.shape[-1])\n",
    "    loss = F.cross_entropy(flat_logits, flat_labels)\n",
    "    \n",
    "    if mixed_precision_assert == True:\n",
    "        # flat_logits is float16 because linear layers ``autocast`` to float16.\n",
    "        # loss is float32 because ``cross entropy`` layers ``autocast`` to float32.\n",
    "        assert flat_logits.dtype == torch.float16\n",
    "        assert loss.dtype == torch.float32\n",
    "    \n",
    "    return loss\n",
    "\n",
    "def compute_eval_loss(eval_dataloader, model, device):\n",
    "    assert not model.training\n",
    "    all_losses = []\n",
    "    with torch.no_grad():\n",
    "        for batch in eval_dataloader:\n",
    "            move_to_device(batch, device)\n",
    "            model_input = {'input_ids':batch['input_ids'],'attention_mask': batch['attention_mask']}\n",
    "            logits = model(model_input)[:,:-1,:].contiguous()\n",
    "            labels = batch['input_ids'][:,1:].contiguous()\n",
    "            flat_labels = labels.view(-1)\n",
    "            flat_logits = logits.view(-1, logits.shape[-1])\n",
    "            losses = F.cross_entropy(flat_logits, flat_labels, reduction='none').tolist()\n",
    "            all_losses.extend(losses)\n",
    "    \n",
    "    mean_loss = np.mean(all_losses)\n",
    "    return mean_loss\n",
    "\n"
   ]
  },
  {
   "cell_type": "markdown",
   "metadata": {},
   "source": [
    "### Timing utility"
   ]
  },
  {
   "cell_type": "code",
   "execution_count": 29,
   "metadata": {},
   "outputs": [],
   "source": [
    "import time, gc\n",
    "# Timing utilities\n",
    "# https://pytorch.org/tutorials/recipes/recipes/amp_recipe.html\n",
    "start_time = None\n",
    "\n",
    "def start_timer():\n",
    "    global start_time\n",
    "    gc.collect()\n",
    "    torch.cuda.empty_cache()\n",
    "    torch.cuda.reset_max_memory_allocated()\n",
    "    torch.cuda.synchronize()\n",
    "    start_time = time.time()\n",
    "\n",
    "def end_timer_and_print(local_msg):\n",
    "    torch.cuda.synchronize()\n",
    "    end_time = time.time()\n",
    "    print(\"\\n\" + local_msg)\n",
    "    print(\"Total execution time = {:.3f} sec\".format(end_time - start_time))\n",
    "    print(\"Max memory used by tensors = {} bytes\".format(torch.cuda.max_memory_allocated()))"
   ]
  },
  {
   "cell_type": "markdown",
   "metadata": {},
   "source": [
    "### Full precision"
   ]
  },
  {
   "cell_type": "code",
   "execution_count": 30,
   "metadata": {},
   "outputs": [],
   "source": [
    "def train_model_epoch(model, \n",
    "                train_loader, \n",
    "                val_loader, \n",
    "                optimizer,\n",
    "                device,\n",
    "                train_config):\n",
    "    \n",
    "    global_steps = 0\n",
    "    record_list = []\n",
    "    model = model.to(device)\n",
    "    start_timer()\n",
    "    for epoch in range(train_config.num_epochs):\n",
    "        \n",
    "        \n",
    "        for batch in train_loader:\n",
    "            model.train()\n",
    "            loss = compute_batch_loss(batch, model, device)\n",
    "            optimizer.zero_grad()\n",
    "            loss.backward()\n",
    "            optimizer.step()\n",
    "            global_steps += 1\n",
    "            if global_steps % train_config.log_freq == 0:\n",
    "                model.eval()\n",
    "                val_loss = compute_eval_loss(val_loader, model, device)\n",
    "                record = {\"epoch\": epoch,\n",
    "                          \"step\": global_steps,\n",
    "                          \"train_loss\": loss.detach().item(),\n",
    "                          \"val_loss\": val_loss}\n",
    "                print(record)\n",
    "                record_list.append(record)\n",
    "    end_timer_and_print(\"Default precision:\")\n",
    "    return record_list"
   ]
  },
  {
   "cell_type": "markdown",
   "metadata": {},
   "source": [
    "### Mixed precision\n",
    "\n",
    "Instances of torch.autocast serve as context managers that allow regions of your script to run in mixed precision.\n",
    "\n",
    "In these regions, CUDA ops run in a dtype chosen by autocast to improve performance while maintaining accuracy. See the Autocast Op Reference for details on what precision autocast chooses for each op, and under what circumstances."
   ]
  },
  {
   "cell_type": "code",
   "execution_count": 31,
   "metadata": {},
   "outputs": [],
   "source": [
    "\n",
    "\n",
    "def train_model_epoch_mixed_precision(model, \n",
    "                train_loader, \n",
    "                val_loader, \n",
    "                optimizer,\n",
    "                device,\n",
    "                train_config):\n",
    "    \n",
    "    global_steps = 0\n",
    "    record_list = []\n",
    "    model = model.to(device)\n",
    "    # Gradient scaling helps prevent gradients with small magnitudes from flushing to zero\n",
    "    # (“underflowing”) when training with mixed precision.\n",
    "    scaler = torch.amp.GradScaler('cuda')\n",
    "    start_timer()\n",
    "    for epoch in range(train_config.num_epochs):\n",
    "        \n",
    "        for batch in train_loader:\n",
    "            model.train()\n",
    "\n",
    "            with torch.autocast(device_type='cuda', dtype=torch.float16):\n",
    "                \n",
    "                loss = compute_batch_loss(batch, model, device, mixed_precision_assert=True)\n",
    "            \n",
    "            optimizer.zero_grad()\n",
    "            scaler.scale(loss).backward()\n",
    "            scaler.step(optimizer)\n",
    "            scaler.update()\n",
    "            \n",
    "            global_steps += 1\n",
    "            if global_steps % train_config.log_freq == 0:\n",
    "                model.eval()\n",
    "                val_loss = compute_eval_loss(val_loader, model, device)\n",
    "                record = {\"epoch\": epoch,\n",
    "                          \"step\": global_steps,\n",
    "                          \"train_loss\": loss.detach().item(),\n",
    "                          \"val_loss\": val_loss}\n",
    "                print(record)\n",
    "                record_list.append(record)\n",
    "    end_timer_and_print(\"Default precision:\")\n",
    "    return record_list\n",
    "                "
   ]
  },
  {
   "cell_type": "code",
   "execution_count": 32,
   "metadata": {},
   "outputs": [],
   "source": [
    "def train_main(model, train_settings, chunk_data, mixed_precision_training=False):\n",
    "    \n",
    "    torch.manual_seed(train_settings.seed)\n",
    "    device = torch.device('cuda') if torch.cuda.is_available() else torch.device('cpu')\n",
    "            \n",
    "\n",
    "    model.to(device)\n",
    "    optimizer = torch.optim.AdamW(model.parameters(),\n",
    "                                  lr=train_settings.learning_rate,\n",
    "                                  weight_decay=train_settings.weight_decay)\n",
    "    \n",
    "    \n",
    "    train_loader = DataLoader(chunk_data['train'],\n",
    "                                      batch_size=train_settings.batch_size,\n",
    "                                      shuffle=True,\n",
    "                                        num_workers=0,\n",
    "                                        collate_fn=default_data_collator\n",
    "    )\n",
    "    \n",
    "    val_loader =  DataLoader(chunk_data['validation'],\n",
    "                                      batch_size=train_settings.batch_size,\n",
    "                                      shuffle=False,\n",
    "                                        num_workers=0,\n",
    "                                        collate_fn=default_data_collator\n",
    "    )\n",
    "    \n",
    "    \n",
    "    if mixed_precision_training:\n",
    "      train_model_epoch_mixed_precision(\n",
    "                model=model,\n",
    "                train_loader=train_loader,\n",
    "                val_loader=val_loader,\n",
    "                optimizer=optimizer,\n",
    "                train_config=train_settings,\n",
    "                device=device)\n",
    "    else:\n",
    "      train_model_epoch(model=model,\n",
    "                  train_loader=train_loader,\n",
    "                  val_loader=val_loader,\n",
    "                  optimizer=optimizer,\n",
    "                  train_config=train_settings,\n",
    "                  device=device)\n",
    "    \n",
    "\n",
    "    \n",
    "    \n",
    "    "
   ]
  },
  {
   "cell_type": "markdown",
   "metadata": {},
   "source": [
    "## Training Entry"
   ]
  },
  {
   "cell_type": "code",
   "execution_count": 33,
   "metadata": {},
   "outputs": [
    {
     "name": "stdout",
     "output_type": "stream",
     "text": [
      "{'epoch': 0, 'step': 50, 'train_loss': 7.689789772033691, 'val_loss': 7.668777453052184}\n",
      "{'epoch': 0, 'step': 100, 'train_loss': 7.0601887702941895, 'val_loss': 7.037264205774467}\n",
      "{'epoch': 0, 'step': 150, 'train_loss': 6.174334526062012, 'val_loss': 6.146691244994047}\n",
      "{'epoch': 0, 'step': 200, 'train_loss': 5.481212139129639, 'val_loss': 5.386733918386623}\n",
      "{'epoch': 0, 'step': 250, 'train_loss': 4.769058704376221, 'val_loss': 4.7812650817852775}\n",
      "\n",
      "Default precision:\n",
      "Total execution time = 24.310 sec\n",
      "Max memory used by tensors = 5175275520 bytes\n"
     ]
    }
   ],
   "source": [
    "model_config = {\n",
    "    \"vocab_size\": 50257,    # Vocabulary size\n",
    "    \"max_position_embeddings\": 1024,\n",
    "    \"hidden_size\": 128,         # model dimension\n",
    "    \"intermediate_size\": 128*4,\n",
    "    \"num_key_value_heads\": 2,\n",
    "    \"num_heads\": 4,          # Number of attention heads\n",
    "    \"num_layers\": 3,         # Number of layers\n",
    "    \"attention_dropout\": 0.1,       # Dropout rate\n",
    "    \"qkv_bias\": False,       # Query-key-value bias\n",
    "    \"o_bias\": True,\n",
    "    \"mlp_bias\": True,\n",
    "    \"rms_norm_eps\": 1e-6,\n",
    "    \"dropout\": 0.1,\n",
    "    \"pad_token_id\": tokenizer.eos_token_id,\n",
    "    \"causal_attention\": True\n",
    "}\n",
    "\n",
    "model_config = OmegaConf.create(model_config)\n",
    "train_settings = {\n",
    "    \"learning_rate\": 5e-4,\n",
    "    \"num_epochs\": 1,\n",
    "    \"batch_size\": 32,\n",
    "    \"weight_decay\": 0.1,\n",
    "    \"seed\": 1,\n",
    "    \"log_freq\": 50\n",
    "}\n",
    "\n",
    "train_settings = OmegaConf.create(train_settings)\n",
    "\n",
    "\n",
    "model = DecoderCausalLM(config=model_config)\n",
    "# train model\n",
    "train_main(model, train_settings=train_settings, chunk_data=chunk_data, mixed_precision_training=True)\n",
    "    \n"
   ]
  },
  {
   "cell_type": "code",
   "execution_count": 34,
   "metadata": {},
   "outputs": [
    {
     "name": "stdout",
     "output_type": "stream",
     "text": [
      "{'epoch': 0, 'step': 50, 'train_loss': 3.673240900039673, 'val_loss': 3.660376475333091}\n",
      "{'epoch': 0, 'step': 100, 'train_loss': 3.1750710010528564, 'val_loss': 3.129806725645031}\n",
      "{'epoch': 0, 'step': 150, 'train_loss': 2.6211187839508057, 'val_loss': 2.6639581041889313}\n",
      "{'epoch': 0, 'step': 200, 'train_loss': 2.2989678382873535, 'val_loss': 2.257827716357259}\n",
      "{'epoch': 0, 'step': 250, 'train_loss': 1.8609188795089722, 'val_loss': 1.9229015331654424}\n",
      "\n",
      "Default precision:\n",
      "Total execution time = 32.994 sec\n",
      "Max memory used by tensors = 5683595264 bytes\n"
     ]
    }
   ],
   "source": [
    "# train model\n",
    "train_main(model, train_settings=train_settings, chunk_data=chunk_data, mixed_precision_training=False)\n",
    "\n",
    "# On my 3090\n",
    "# /home/yangyutu/miniconda3/envs/huggingface_lastest/lib/python3.9/site-packages/torch/cuda/memory.py:365: FutureWarning: torch.cuda.reset_max_memory_allocated now calls torch.cuda.reset_peak_memory_stats, which resets /all/ peak memory stats.\n",
    "#   warnings.warn(\n",
    "# {'epoch': 0, 'step': 50, 'train_loss': 3.1814770698547363, 'val_loss': 3.159256796090871}\n",
    "# {'epoch': 0, 'step': 100, 'train_loss': 2.7032246589660645, 'val_loss': 2.6685547356172212}\n",
    "# {'epoch': 0, 'step': 150, 'train_loss': 2.2208354473114014, 'val_loss': 2.2558248526470144}\n",
    "# {'epoch': 0, 'step': 200, 'train_loss': 1.9303675889968872, 'val_loss': 1.9033248468423163}\n",
    "# {'epoch': 0, 'step': 250, 'train_loss': 1.5353786945343018, 'val_loss': 1.6159611645910337}\n",
    "\n",
    "# Default precision:\n",
    "# Total execution time = 25.575 sec\n",
    "# Max memory used by tensors = 6044132352 bytes\n",
    "\n",
    "# On 4090\n",
    "\n",
    "# {'epoch': 0, 'step': 50, 'train_loss': 3.354149103164673, 'val_loss': 3.3306671452994774}\n",
    "# {'epoch': 0, 'step': 100, 'train_loss': 2.8767457008361816, 'val_loss': 2.844842069686138}\n",
    "# {'epoch': 0, 'step': 150, 'train_loss': 2.39607834815979, 'val_loss': 2.4303341806986802}\n",
    "# {'epoch': 0, 'step': 200, 'train_loss': 2.114605188369751, 'val_loss': 2.0717746545050604}\n",
    "# {'epoch': 0, 'step': 250, 'train_loss': 1.7027183771133423, 'val_loss': 1.7752767190680252}\n",
    "\n",
    "# Default precision:\n",
    "# Total execution time = 18.650 sec\n",
    "# Max memory used by tensors = 5682771968 bytes"
   ]
  }
 ],
 "metadata": {
  "colab": {
   "provenance": []
  },
  "kernelspec": {
   "display_name": "base",
   "language": "python",
   "name": "python3"
  },
  "language_info": {
   "codemirror_mode": {
    "name": "ipython",
    "version": 3
   },
   "file_extension": ".py",
   "mimetype": "text/x-python",
   "name": "python",
   "nbconvert_exporter": "python",
   "pygments_lexer": "ipython3",
   "version": "3.10.13"
  }
 },
 "nbformat": 4,
 "nbformat_minor": 0
}
