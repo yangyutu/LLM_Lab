{
 "cells": [
  {
   "cell_type": "markdown",
   "metadata": {},
   "source": [
    "# *Lab: LLM Pretraining\n",
    "\n",
    "Here we directly leverage the decoder architecture we made from previous sections. \n",
    "  "
   ]
  },
  {
   "cell_type": "code",
   "execution_count": 1,
   "metadata": {},
   "outputs": [
    {
     "name": "stderr",
     "output_type": "stream",
     "text": [
      "/home/yangyutu/miniconda3/envs/huggingface_lastest/lib/python3.9/site-packages/tqdm/auto.py:21: TqdmWarning: IProgress not found. Please update jupyter and ipywidgets. See https://ipywidgets.readthedocs.io/en/stable/user_install.html\n",
      "  from .autonotebook import tqdm as notebook_tqdm\n"
     ]
    }
   ],
   "source": [
    "import torch\n",
    "import torch.nn.functional as F\n",
    "import torch.utils.checkpoint\n",
    "from torch.utils.data import DataLoader\n",
    "from torch import nn\n",
    "import numpy as np\n",
    "from omegaconf import OmegaConf\n",
    "from llm_lab.model.vanilla_decoder import VanillaDecoderModel\n",
    "from llm_lab.utils.collate_utils import default_data_collator\n",
    "from llm_lab.utils.common_utils import move_to_device\n",
    "from transformers import AutoTokenizer\n",
    "from datasets import load_dataset\n",
    "from itertools import chain\n",
    "from functools import partial\n",
    "\n",
    "%load_ext autoreload\n",
    "%autoreload 2 "
   ]
  },
  {
   "cell_type": "markdown",
   "metadata": {},
   "source": [
    "## Data"
   ]
  },
  {
   "cell_type": "code",
   "execution_count": 2,
   "metadata": {},
   "outputs": [],
   "source": [
    "dataset_name =  \"wikitext\"\n",
    "data_config = \"wikitext-2-raw-v1\"\n",
    "text_column_name = \"text\"\n",
    "\n",
    "# model parameters\n",
    "model_name_or_path=\"openai-community/gpt2\""
   ]
  },
  {
   "cell_type": "code",
   "execution_count": 3,
   "metadata": {},
   "outputs": [],
   "source": [
    "raw_datasets = load_dataset(dataset_name, data_config)\n",
    "tokenizer = AutoTokenizer.from_pretrained(model_name_or_path, use_fast=True)"
   ]
  },
  {
   "cell_type": "code",
   "execution_count": 4,
   "metadata": {},
   "outputs": [],
   "source": [
    "def tokenize(examples):\n",
    "    return tokenizer(examples[text_column_name])"
   ]
  },
  {
   "cell_type": "code",
   "execution_count": 5,
   "metadata": {},
   "outputs": [],
   "source": [
    "def group_and_chunk(tokenized_examples, chunk_size=1024, chunk_key='input_ids'):\n",
    "    keys = list(tokenized_examples.keys())\n",
    "    # use chain to flatten list\n",
    "    concat_examples = {k: list(chain(*tokenized_examples[k])) for k in keys}\n",
    "    total_length = len(concat_examples[chunk_key])\n",
    "    total_length = (total_length // chunk_size) * chunk_size\n",
    "    \n",
    "    result_dict = {\n",
    "        k: [v[i : i + chunk_size] for i in range(0, total_length, chunk_size)]\n",
    "        for k, v in concat_examples.items()\n",
    "    }\n",
    "\n",
    "    return result_dict"
   ]
  },
  {
   "cell_type": "code",
   "execution_count": 6,
   "metadata": {},
   "outputs": [],
   "source": [
    "tokenized_dataset = raw_datasets.map(\n",
    "                    tokenize, \n",
    "                    batched=True)"
   ]
  },
  {
   "cell_type": "code",
   "execution_count": 7,
   "metadata": {},
   "outputs": [],
   "source": [
    "chunk_data = tokenized_dataset.map(\n",
    "                                    partial(group_and_chunk, \n",
    "                                            chunk_size=256),\n",
    "                                        #chunk_size=tokenizer.model_max_length),\n",
    "                                    batched=True,\n",
    "                                    remove_columns=['text'])"
   ]
  },
  {
   "cell_type": "code",
   "execution_count": 8,
   "metadata": {},
   "outputs": [
    {
     "data": {
      "text/plain": [
       "DatasetDict({\n",
       "    test: Dataset({\n",
       "        features: ['text', 'input_ids', 'attention_mask'],\n",
       "        num_rows: 1104\n",
       "    })\n",
       "    train: Dataset({\n",
       "        features: ['text', 'input_ids', 'attention_mask'],\n",
       "        num_rows: 9327\n",
       "    })\n",
       "    validation: Dataset({\n",
       "        features: ['text', 'input_ids', 'attention_mask'],\n",
       "        num_rows: 964\n",
       "    })\n",
       "})"
      ]
     },
     "execution_count": 8,
     "metadata": {},
     "output_type": "execute_result"
    }
   ],
   "source": [
    "chunk_data"
   ]
  },
  {
   "cell_type": "markdown",
   "metadata": {},
   "source": [
    "## Model"
   ]
  },
  {
   "cell_type": "code",
   "execution_count": 9,
   "metadata": {},
   "outputs": [],
   "source": [
    "class DecoderCausalLM(nn.Module):\n",
    "    def __init__(self, config):\n",
    "        super().__init__()\n",
    "        self.decoder = VanillaDecoderModel(config)\n",
    "        self.lm_head = nn.Linear(config.d_model, config.vocab_size, bias=False)\n",
    "        \n",
    "    def forward(self, batch):\n",
    "        hidden_states = self.decoder(input_ids=batch['input_ids'])\n",
    "        logits = self.lm_head(hidden_states)\n",
    "        return logits"
   ]
  },
  {
   "cell_type": "markdown",
   "metadata": {},
   "source": [
    "## Training"
   ]
  },
  {
   "cell_type": "code",
   "execution_count": 10,
   "metadata": {},
   "outputs": [],
   "source": [
    "def compute_batch_loss(batch, model, device):\n",
    "    assert model.training\n",
    "    move_to_device(batch, device)\n",
    "    model_input = {'input_ids':batch['input_ids'],'attention_mask': batch['attention_mask']}\n",
    "    logits = model(model_input)[:,:-1,:].contiguous()\n",
    "    labels = batch['input_ids'][:,1:].contiguous()\n",
    "    flat_labels = labels.view(-1)\n",
    "    flat_logits = logits.view(-1, logits.shape[-1])\n",
    "    loss = F.cross_entropy(flat_logits, flat_labels)\n",
    "    return loss\n",
    "\n",
    "def compute_eval_loss(eval_dataloader, model, device):\n",
    "    assert not model.training\n",
    "    all_losses = []\n",
    "    with torch.no_grad():\n",
    "        for batch in eval_dataloader:\n",
    "            move_to_device(batch, device)\n",
    "            model_input = {'input_ids':batch['input_ids'],'attention_mask': batch['attention_mask']}\n",
    "            logits = model(model_input)[:,:-1,:].contiguous()\n",
    "            labels = batch['input_ids'][:,1:].contiguous()\n",
    "            flat_labels = labels.view(-1)\n",
    "            flat_logits = logits.view(-1, logits.shape[-1])\n",
    "            losses = F.cross_entropy(flat_logits, flat_labels, reduction='none').tolist()\n",
    "            all_losses.extend(losses)\n",
    "    \n",
    "    mean_loss = np.mean(all_losses)\n",
    "    return mean_loss\n",
    "\n",
    "def train_model_epoch(model, \n",
    "                train_loader, \n",
    "                val_loader, \n",
    "                optimizer,\n",
    "                device,\n",
    "                train_config):\n",
    "    \n",
    "    global_steps = 0\n",
    "    record_list = []\n",
    "    model = model.to(device)\n",
    "    for epoch in range(train_config.num_epochs):\n",
    "        \n",
    "        \n",
    "        for batch in train_loader:\n",
    "            model.train()\n",
    "            loss = compute_batch_loss(batch, model, device)\n",
    "            optimizer.zero_grad()\n",
    "            loss.backward()\n",
    "            optimizer.step()\n",
    "            global_steps += 1\n",
    "            if global_steps % train_config.log_freq == 0:\n",
    "                model.eval()\n",
    "                val_loss = compute_eval_loss(val_loader, model, device)\n",
    "                record = {\"epoch\": epoch,\n",
    "                          \"step\": global_steps,\n",
    "                          \"train_loss\": loss.detach().item(),\n",
    "                          \"val_loss\": val_loss}\n",
    "                print(record)\n",
    "                record_list.append(record)\n",
    "        \n",
    "    return record_list"
   ]
  },
  {
   "cell_type": "code",
   "execution_count": 11,
   "metadata": {},
   "outputs": [],
   "source": [
    "def train_main(model_config, train_settings, chunk_data):\n",
    "    \n",
    "    torch.manual_seed(train_settings.seed)\n",
    "    device = torch.device('cuda') if torch.cuda.is_available() else torch.device('cpu')\n",
    "            \n",
    "    model = DecoderCausalLM(config=model_config)\n",
    "    model.to(device)\n",
    "    optimizer = torch.optim.AdamW(model.parameters(),\n",
    "                                  lr=train_settings.learning_rate,\n",
    "                                  weight_decay=train_settings.weight_decay)\n",
    "    \n",
    "    \n",
    "    train_loader = DataLoader(chunk_data['train'],\n",
    "                                      batch_size=train_settings.batch_size,\n",
    "                                      shuffle=True,\n",
    "                                        num_workers=0,\n",
    "                                        collate_fn=default_data_collator\n",
    "    )\n",
    "    \n",
    "    val_loader =  DataLoader(chunk_data['validation'],\n",
    "                                      batch_size=train_settings.batch_size,\n",
    "                                      shuffle=False,\n",
    "                                        num_workers=0,\n",
    "                                        collate_fn=default_data_collator\n",
    "    )\n",
    "    \n",
    "    train_model_epoch(model=model,\n",
    "                train_loader=train_loader,\n",
    "                val_loader=val_loader,\n",
    "                optimizer=optimizer,\n",
    "                train_config=train_settings,\n",
    "                device=device)\n",
    "    \n",
    "    \n",
    "    "
   ]
  },
  {
   "cell_type": "markdown",
   "metadata": {},
   "source": [
    "## Training Entry"
   ]
  },
  {
   "cell_type": "code",
   "execution_count": 13,
   "metadata": {},
   "outputs": [
    {
     "name": "stdout",
     "output_type": "stream",
     "text": [
      "vanilla decoder model 4\n",
      "{'epoch': 0, 'step': 50, 'train_loss': 7.575674533843994, 'val_loss': 7.6078704878172605}\n",
      "{'epoch': 0, 'step': 100, 'train_loss': 7.532696723937988, 'val_loss': 7.571146742496059}\n",
      "{'epoch': 0, 'step': 150, 'train_loss': 7.522599697113037, 'val_loss': 7.551461629663489}\n",
      "{'epoch': 0, 'step': 200, 'train_loss': 7.455109596252441, 'val_loss': 7.535344308363044}\n",
      "{'epoch': 0, 'step': 250, 'train_loss': 7.560824394226074, 'val_loss': 7.524374966874152}\n",
      "{'epoch': 0, 'step': 300, 'train_loss': 7.500126361846924, 'val_loss': 7.5218339028064385}\n",
      "{'epoch': 0, 'step': 350, 'train_loss': 7.185679912567139, 'val_loss': 7.197160606820825}\n",
      "{'epoch': 0, 'step': 400, 'train_loss': 6.893970012664795, 'val_loss': 7.077821245118121}\n",
      "{'epoch': 0, 'step': 450, 'train_loss': 6.921998023986816, 'val_loss': 6.8489655562029315}\n",
      "{'epoch': 0, 'step': 500, 'train_loss': 6.794436931610107, 'val_loss': 6.7578275983170375}\n",
      "{'epoch': 0, 'step': 550, 'train_loss': 6.545589923858643, 'val_loss': 6.657762480623405}\n"
     ]
    }
   ],
   "source": [
    "model_config = {\n",
    "    \"vocab_size\": 50257,    # Vocabulary size\n",
    "    \"context_length\": 1024,\n",
    "    \"d_model\": 768,         # model dimension\n",
    "    \"num_heads\": 4,          # Number of attention heads\n",
    "    \"num_layers\": 6,         # Number of layers\n",
    "    \"dropout\": 0.1,       # Dropout rate\n",
    "    \"qkv_bias\": False,       # Query-key-value bias\n",
    "    \"use_sin_position_encoding\": True\n",
    "}\n",
    "\n",
    "model_config = OmegaConf.create(model_config)\n",
    "train_settings = {\n",
    "    \"learning_rate\": 5e-4,\n",
    "    \"num_epochs\": 1,\n",
    "    \"batch_size\": 16,\n",
    "    \"weight_decay\": 0.1,\n",
    "    \"seed\": 1,\n",
    "    \"log_freq\": 50\n",
    "}\n",
    "\n",
    "train_settings = OmegaConf.create(train_settings)\n",
    "\n",
    "# train model\n",
    "train_main(model_config=model_config, train_settings=train_settings, chunk_data=chunk_data)\n",
    "    \n",
    "\n",
    "# save model\n",
    "#torch.save(model.state_dict(), \"model.pth\")\n",
    "\n",
    "# training process\n",
    "# {'epoch': 0, 'step': 3850, 'train_loss': 0.6468448042869568, 'val_loss': 0.7575275960154447}\n",
    "# {'epoch': 0, 'step': 3900, 'train_loss': 0.6099380850791931, 'val_loss': 0.7526979942824544}\n",
    "# {'epoch': 0, 'step': 3950, 'train_loss': 0.6703057885169983, 'val_loss': 0.7228095072978866}\n",
    "# {'epoch': 0, 'step': 4000, 'train_loss': 0.6628137826919556, 'val_loss': 0.7049126117942794}\n",
    "# {'epoch': 0, 'step': 4050, 'train_loss': 0.6893414855003357, 'val_loss': 0.6988437660309196}\n",
    "# {'epoch': 0, 'step': 4100, 'train_loss': 0.7205791473388672, 'val_loss': 0.6762202845779502}\n",
    "# {'epoch': 0, 'step': 4150, 'train_loss': 0.8741434812545776, 'val_loss': 0.6782277143252924}\n"
   ]
  }
 ],
 "metadata": {
  "colab": {
   "provenance": []
  },
  "kernelspec": {
   "display_name": "huggingface_lastest",
   "language": "python",
   "name": "python3"
  },
  "language_info": {
   "codemirror_mode": {
    "name": "ipython",
    "version": 3
   },
   "file_extension": ".py",
   "mimetype": "text/x-python",
   "name": "python",
   "nbconvert_exporter": "python",
   "pygments_lexer": "ipython3",
   "version": "3.9.0"
  }
 },
 "nbformat": 4,
 "nbformat_minor": 0
}
