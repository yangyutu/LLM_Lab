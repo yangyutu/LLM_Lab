{
 "cells": [
  {
   "cell_type": "code",
   "execution_count": 12,
   "metadata": {},
   "outputs": [],
   "source": [
    "import model.vanila_decoder as Decoder"
   ]
  },
  {
   "cell_type": "code",
   "execution_count": 25,
   "metadata": {},
   "outputs": [],
   "source": [
    "class MultiHeadAttention(nn.Module):\n",
    "    def __init__(self, d_model, context_length, num_heads, dropout, qkv_bias=False):\n",
    "        super().__init__()\n",
    "        \n",
    "        assert d_model % num_heads == 0\n",
    "        self.d_head = d_model // num_heads\n",
    "        \n",
    "        self.d_model = d_model\n",
    "        self.num_heads = num_heads\n",
    "        \n",
    "        self.W_Q = nn.Linear(d_model, d_model, bias=qkv_bias)\n",
    "        self.W_K = nn.Linear(d_model, d_model, bias=qkv_bias)\n",
    "        self.W_V = nn.Linear(d_model, d_model, bias=qkv_bias)\n",
    "        \n",
    "        self.W_O = nn.Linear(d_model, d_model)\n",
    "        self.dropout = nn.Dropout(dropout)\n",
    "        \n",
    "        self.register_buffer(\"mask\", torch.triu(torch.ones((context_length, context_length)), diagonal=1))\n",
    "        \n",
    "    def forward(self, x):\n",
    "        \n",
    "        batch_size, seq_len, d_model = x.shape\n",
    "        \n",
    "        queries = self.W_Q(x)\n",
    "        keys = self.W_K(x)\n",
    "        values = self.W_V(x)\n",
    "        \n",
    "        # splits to heads\n",
    "        queries = queries.view(batch_size, seq_len, self.num_heads, self.d_head)\n",
    "        keys = keys.view(batch_size, seq_len, self.num_heads, self.d_head)\n",
    "        values = values.view(batch_size, seq_len, self.num_heads, self.d_head)\n",
    "        \n",
    "        # exchange seq_len and num_head axis\n",
    "        queries = queries.transpose(1, 2)\n",
    "        keys = keys.transpose(1, 2)\n",
    "        values = values.transpose(1, 2)\n",
    "        \n",
    "        attention_logits = queries @ keys.transpose(2, 3) / self.d_head ** 0.5\n",
    "        \n",
    "        mask_bool = self.mask.bool()[:seq_len,:seq_len]\n",
    "        \n",
    "        \n",
    "        attention_logits.masked_fill(mask_bool, -torch.inf)\n",
    "        \n",
    "        attention_weights = torch.softmax(attention_logits, dim=-1)\n",
    "        \n",
    "        attention_weights = self.dropout(attention_weights)\n",
    "        \n",
    "        context_vec = attention_weights @ values\n",
    "        \n",
    "        \n",
    "        context_vec = context_vec.transpose(2,3).contiguous().view(batch_size, seq_len, self.d_model)\n",
    "        \n",
    "        out = self.W_O(context_vec)\n",
    "        \n",
    "        return out"
   ]
  },
  {
   "cell_type": "code",
   "execution_count": 26,
   "metadata": {},
   "outputs": [],
   "source": [
    "d_model = 512\n",
    "context_length = 1024\n",
    "num_heads = 8\n",
    "dropout = 0.2\n",
    "qkv_bias = False\n",
    "\n",
    "attention = MultiHeadAttention(d_model, context_length, num_heads, dropout,qkv_bias)"
   ]
  },
  {
   "cell_type": "code",
   "execution_count": 27,
   "metadata": {},
   "outputs": [],
   "source": [
    "x = torch.rand((12, 256, d_model))\n"
   ]
  },
  {
   "cell_type": "code",
   "execution_count": 28,
   "metadata": {},
   "outputs": [],
   "source": [
    "context_x = attention(x)"
   ]
  },
  {
   "cell_type": "code",
   "execution_count": 29,
   "metadata": {},
   "outputs": [
    {
     "data": {
      "text/plain": [
       "torch.Size([12, 256, 512])"
      ]
     },
     "execution_count": 29,
     "metadata": {},
     "output_type": "execute_result"
    }
   ],
   "source": [
    "context_x.shape"
   ]
  },
  {
   "cell_type": "code",
   "execution_count": null,
   "metadata": {},
   "outputs": [],
   "source": []
  }
 ],
 "metadata": {
  "kernelspec": {
   "display_name": "huggingface_lastest",
   "language": "python",
   "name": "python3"
  },
  "language_info": {
   "codemirror_mode": {
    "name": "ipython",
    "version": 3
   },
   "file_extension": ".py",
   "mimetype": "text/x-python",
   "name": "python",
   "nbconvert_exporter": "python",
   "pygments_lexer": "ipython3",
   "version": "3.9.0"
  }
 },
 "nbformat": 4,
 "nbformat_minor": 2
}
